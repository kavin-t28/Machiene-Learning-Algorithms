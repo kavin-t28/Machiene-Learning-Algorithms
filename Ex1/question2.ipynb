{
 "cells": [
  {
   "cell_type": "markdown",
   "metadata": {},
   "source": [
    "# Question 2"
   ]
  },
  {
   "cell_type": "code",
   "execution_count": 1,
   "metadata": {},
   "outputs": [],
   "source": [
    "import numpy as np\n",
    "import pandas as pd\n",
    "import sklearn \n",
    "import matplotlib.pyplot as plt"
   ]
  },
  {
   "cell_type": "code",
   "execution_count": 2,
   "metadata": {},
   "outputs": [
    {
     "data": {
      "text/html": [
       "<div>\n",
       "<style scoped>\n",
       "    .dataframe tbody tr th:only-of-type {\n",
       "        vertical-align: middle;\n",
       "    }\n",
       "\n",
       "    .dataframe tbody tr th {\n",
       "        vertical-align: top;\n",
       "    }\n",
       "\n",
       "    .dataframe thead th {\n",
       "        text-align: right;\n",
       "    }\n",
       "</style>\n",
       "<table border=\"1\" class=\"dataframe\">\n",
       "  <thead>\n",
       "    <tr style=\"text-align: right;\">\n",
       "      <th></th>\n",
       "      <th>x</th>\n",
       "      <th>y</th>\n",
       "    </tr>\n",
       "  </thead>\n",
       "  <tbody>\n",
       "    <tr>\n",
       "      <th>0</th>\n",
       "      <td>17</td>\n",
       "      <td>94</td>\n",
       "    </tr>\n",
       "    <tr>\n",
       "      <th>1</th>\n",
       "      <td>13</td>\n",
       "      <td>73</td>\n",
       "    </tr>\n",
       "    <tr>\n",
       "      <th>2</th>\n",
       "      <td>12</td>\n",
       "      <td>59</td>\n",
       "    </tr>\n",
       "    <tr>\n",
       "      <th>3</th>\n",
       "      <td>15</td>\n",
       "      <td>80</td>\n",
       "    </tr>\n",
       "    <tr>\n",
       "      <th>4</th>\n",
       "      <td>16</td>\n",
       "      <td>93</td>\n",
       "    </tr>\n",
       "    <tr>\n",
       "      <th>...</th>\n",
       "      <td>...</td>\n",
       "      <td>...</td>\n",
       "    </tr>\n",
       "    <tr>\n",
       "      <th>115</th>\n",
       "      <td>14</td>\n",
       "      <td>85</td>\n",
       "    </tr>\n",
       "    <tr>\n",
       "      <th>116</th>\n",
       "      <td>16</td>\n",
       "      <td>66</td>\n",
       "    </tr>\n",
       "    <tr>\n",
       "      <th>117</th>\n",
       "      <td>16</td>\n",
       "      <td>79</td>\n",
       "    </tr>\n",
       "    <tr>\n",
       "      <th>118</th>\n",
       "      <td>18</td>\n",
       "      <td>77</td>\n",
       "    </tr>\n",
       "    <tr>\n",
       "      <th>119</th>\n",
       "      <td>19</td>\n",
       "      <td>91</td>\n",
       "    </tr>\n",
       "  </tbody>\n",
       "</table>\n",
       "<p>120 rows × 2 columns</p>\n",
       "</div>"
      ],
      "text/plain": [
       "      x   y\n",
       "0    17  94\n",
       "1    13  73\n",
       "2    12  59\n",
       "3    15  80\n",
       "4    16  93\n",
       "..   ..  ..\n",
       "115  14  85\n",
       "116  16  66\n",
       "117  16  79\n",
       "118  18  77\n",
       "119  19  91\n",
       "\n",
       "[120 rows x 2 columns]"
      ]
     },
     "execution_count": 2,
     "metadata": {},
     "output_type": "execute_result"
    }
   ],
   "source": [
    "df1= pd.read_csv('data1.csv')\n",
    "df1"
   ]
  },
  {
   "cell_type": "code",
   "execution_count": 3,
   "metadata": {},
   "outputs": [],
   "source": [
    "X = df1['x'].values\n",
    "Y = df1['y'].values\n",
    "\n",
    "\n"
   ]
  },
  {
   "cell_type": "markdown",
   "metadata": {},
   "source": [
    "#### getting the train test split"
   ]
  },
  {
   "cell_type": "code",
   "execution_count": 4,
   "metadata": {},
   "outputs": [],
   "source": [
    "data_combined = np.column_stack((X, Y))\n",
    "np.random.seed(42)\n",
    "np.random.shuffle(data_combined)\n",
    "\n",
    "# had to make the split 50-50 because was facing error while doing multiplication for the test_set\n",
    "train_ratio = 0.5\n",
    "train_size = int(train_ratio * len(data_combined))\n",
    "\n",
    "train_data = data_combined[:train_size]\n",
    "test_data = data_combined[train_size:]\n",
    "\n",
    "X_train = train_data[:, 0]\n",
    "Y_train = train_data[:, 1]\n",
    "X_test = test_data[:, 0]\n",
    "Y_test = test_data[:, 1]\n",
    "\n",
    "\n"
   ]
  },
  {
   "cell_type": "code",
   "execution_count": 5,
   "metadata": {},
   "outputs": [],
   "source": [
    "mean_x_train = np.mean(X_train)\n",
    "mean_y_train = np.mean(Y_train)"
   ]
  },
  {
   "cell_type": "markdown",
   "metadata": {},
   "source": [
    "### Method 1 Slope-Intercept Equation"
   ]
  },
  {
   "cell_type": "code",
   "execution_count": 6,
   "metadata": {},
   "outputs": [],
   "source": [
    "numer_train = np.sum((X_train - mean_x_train) * (Y_train - mean_y_train))\n",
    "denom_train = np.sum((X_train - mean_x_train) ** 2)\n",
    "\n",
    "m_train = (numer_train) / (denom_train)\n",
    "c_train = mean_y_train - m_train * mean_x_train"
   ]
  },
  {
   "cell_type": "code",
   "execution_count": 7,
   "metadata": {},
   "outputs": [],
   "source": [
    "\n",
    "# making prediction on training set\n",
    "preds_train = m_train*X_train+c_train"
   ]
  },
  {
   "cell_type": "code",
   "execution_count": 8,
   "metadata": {},
   "outputs": [],
   "source": [
    "# making prediction on testing set\n",
    "preds_test= (m_train)*(X_test)+(c_train)"
   ]
  },
  {
   "cell_type": "code",
   "execution_count": 9,
   "metadata": {},
   "outputs": [
    {
     "name": "stdout",
     "output_type": "stream",
     "text": [
      "Slope (Coefficient) for training set: 2.880077927700411\n",
      "Intercept for training set: 35.1967674435385\n",
      "RMSE for training set: 9.41919862001478\n",
      "RMSE for test set: 8.240639364709901\n"
     ]
    }
   ],
   "source": [
    "#Calculating RMSE for training set\n",
    "rmse_train = np.sqrt(np.sum((Y_train - preds_train) ** 2) / len(Y_train))\n",
    "\n",
    "# Calculating RMSE for test set\n",
    "rmse_test = np.sqrt(np.sum((Y_test - preds_test) ** 2) / len(Y_test))\n",
    "\n",
    "print(f\"Slope (Coefficient) for training set: {m_train}\")\n",
    "print(f\"Intercept for training set: {c_train}\")\n",
    "print(f\"RMSE for training set: {rmse_train}\")\n",
    "print(f\"RMSE for test set: {rmse_test}\")"
   ]
  },
  {
   "cell_type": "code",
   "execution_count": 21,
   "metadata": {},
   "outputs": [
    {
     "data": {
      "image/png": "[encoded data removed]",
      "text/plain": [
       "<Figure size 640x480 with 1 Axes>"
      ]
     },
     "metadata": {},
     "output_type": "display_data"
    }
   ],
   "source": [
    "plt.scatter(X_test, Y_test, label='Testing data')\n",
    "plt.plot(X_test, preds_test, color='red', label='Regression line (Testing)')\n",
    "plt.xlabel('X')\n",
    "plt.ylabel('Y')\n",
    "plt.title('Method 1:Slope Intercept - Testing Set')\n",
    "plt.legend()\n",
    "plt.show()"
   ]
  },
  {
   "cell_type": "markdown",
   "metadata": {},
   "source": [
    "### Method 2 ( Pearsons Corelation coefficient)"
   ]
  },
  {
   "cell_type": "code",
   "execution_count": 15,
   "metadata": {},
   "outputs": [
    {
     "name": "stdout",
     "output_type": "stream",
     "text": [
      "Pearson's Correlation Coefficient for training set: 0.514455451484717\n"
     ]
    }
   ],
   "source": [
    "correlation_coefficient_train = np.corrcoef(X_train, Y_train)[0, 1]\n",
    "print(f\"Pearson's Correlation Coefficient for training set: {correlation_coefficient_train}\")"
   ]
  },
  {
   "cell_type": "code",
   "execution_count": 16,
   "metadata": {},
   "outputs": [],
   "source": [
    "slope_train = correlation_coefficient_train * (np.std(Y_train) / np.std(X_train))\n",
    "\n",
    "intercept_train = mean_y_train - slope_train * mean_x_train"
   ]
  },
  {
   "cell_type": "code",
   "execution_count": 17,
   "metadata": {},
   "outputs": [],
   "source": [
    "predictions_test = slope_train * X_test + intercept_train\n",
    "\n",
    "rmse_test = np.sqrt(np.sum((Y_test - predictions_test) ** 2) / len(Y_test))\n"
   ]
  },
  {
   "cell_type": "code",
   "execution_count": 18,
   "metadata": {},
   "outputs": [
    {
     "name": "stdout",
     "output_type": "stream",
     "text": [
      "Slope (Coefficient) for training set: 2.880077927700412\n",
      "Intercept for training set: 35.196767443538484\n",
      "RMSE for test set using Pearson's Correlation Coefficient: 8.240639364709901\n"
     ]
    }
   ],
   "source": [
    "print(f\"Slope (Coefficient) for training set: {slope_train}\")\n",
    "print(f\"Intercept for training set: {intercept_train}\")\n",
    "\n",
    "print(f\"RMSE for test set using Pearson's Correlation Coefficient: {rmse_test}\")\n"
   ]
  },
  {
   "cell_type": "code",
   "execution_count": 22,
   "metadata": {},
   "outputs": [
    {
     "data": {
      "image/png": "[encoded data removed]",
      "text/plain": [
       "<Figure size 640x480 with 1 Axes>"
      ]
     },
     "metadata": {},
     "output_type": "display_data"
    }
   ],
   "source": [
    "plt.scatter(X_test, Y_test, label='Test data')\n",
    "plt.plot(X_test, predictions_test, color='red', label='Regression line (Test)')\n",
    "plt.xlabel('X')\n",
    "plt.ylabel('Y')\n",
    "plt.title('Method2: Correlation Coefficient')\n",
    "plt.legend()\n",
    "plt.show()"
   ]
  }
 ],
 "metadata": {
  "kernelspec": {
   "display_name": "kavin",
   "language": "python",
   "name": "python3"
  },
  "language_info": {
   "codemirror_mode": {
    "name": "ipython",
    "version": 3
   },
   "file_extension": ".py",
   "mimetype": "text/x-python",
   "name": "python",
   "nbconvert_exporter": "python",
   "pygments_lexer": "ipython3",
   "version": "3.9.18"
  }
 },
 "nbformat": 4,
 "nbformat_minor": 2
}
